{
 "cells": [
  {
   "cell_type": "markdown",
   "metadata": {},
   "source": [
    "# Scikit Learn Tutorial #2 - Setup / Benefits of Scikit Learn"
   ]
  },
  {
   "cell_type": "markdown",
   "metadata": {},
   "source": [
    "![Scikit Learn Logo](http://scikit-learn.org/stable/_static/scikit-learn-logo-small.png)"
   ]
  },
  {
   "cell_type": "markdown",
   "metadata": {},
   "source": [
    "## Benefits:   \n",
    "<ul>\n",
    "    <li>Consistent Interface</li>\n",
    "    <li>Covers most machine-learning tasks</li>\n",
    "    <li>Excellent documentation</li>\n",
    "    <li>A lot of parameters you can tune with good defaults</li>\n",
    "    <li>Efficient models</li>\n",
    "</ul>"
   ]
  },
  {
   "cell_type": "markdown",
   "metadata": {},
   "source": [
    "# Installation\n",
    "\n",
    "## Installing Python\n",
    "#### Go to [https://www.python.org/downloads/](https://www.python.org/downloads/)\n",
    "#### Click add Python to PATH\n",
    "![Python Installation](https://docs.python.org/3/_images/win_installer.png)"
   ]
  },
  {
   "cell_type": "markdown",
   "metadata": {},
   "source": [
    "## Installing Jupyter Notebook\n",
    "\n",
    "#### Install using pip  \n",
    "`pip install jupyter`\n",
    "\n",
    "#### Run Notebook\n",
    "You can run a notebook by opening the console line and navigating into the directory you want to open the notebook in and typing:  \n",
    "`jupyter notebook`\n",
    "![Jupyter Logo](https://jupyter.readthedocs.io/en/latest/_static/_images/jupyter.svg)"
   ]
  },
  {
   "cell_type": "markdown",
   "metadata": {},
   "source": [
    "## Installing Scikit Learn\n",
    "\n",
    "#### Install using pip\n",
    "`pip install scikit-learn`\n",
    "#### Install using Anaconda\n",
    "Download [Anaconda](https://www.anaconda.com/download/)  \n",
    "`conda install scikit-learn`"
   ]
  },
  {
   "cell_type": "markdown",
   "metadata": {},
   "source": [
    "## Resources\n",
    "[Learn Markdown](https://github.com/adam-p/markdown-here/wiki/Markdown-Cheatsheet) Cheatsheet from Github   \n",
    "[Using Jupyter](https://www.youtube.com/watch?v=HW29067qVWk&t=4s) Video from Corey Schafer"
   ]
  }
 ],
 "metadata": {
  "kernelspec": {
   "display_name": "Python 3",
   "language": "python",
   "name": "python3"
  },
  "language_info": {
   "codemirror_mode": {
    "name": "ipython",
    "version": 3
   },
   "file_extension": ".py",
   "mimetype": "text/x-python",
   "name": "python",
   "nbconvert_exporter": "python",
   "pygments_lexer": "ipython3",
   "version": "3.6.6"
  }
 },
 "nbformat": 4,
 "nbformat_minor": 2
}
